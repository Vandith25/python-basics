{
 "cells": [
  {
   "cell_type": "code",
   "execution_count": null,
   "id": "731c2a18",
   "metadata": {},
   "outputs": [],
   "source": [
    "Q1. Write all the conventions being followed while declaring a variable.\n",
    "\n",
    "Ans : a)Variables can contain alphabets(lower case or upper case) , numbers and underscore .\n",
    "    \n",
    "      b)Variable name can never begin with numbers.\n",
    "\n",
    "      c)We cannot use restricted keywords as variable names.\n",
    "\n",
    "      d)Variable name can begin with a letter or an underscore.\n",
    "\n",
    "      e)Variable cannot have space in between words rather an underscore can be used."
   ]
  },
  {
   "cell_type": "code",
   "execution_count": null,
   "id": "5fcca1fd",
   "metadata": {},
   "outputs": [],
   "source": [
    "Q2. What will happen if we declare a restricted keyword as a variable?\n",
    "\n",
    "Ans: It will cause an syntax error."
   ]
  },
  {
   "cell_type": "code",
   "execution_count": null,
   "id": "15e76993",
   "metadata": {},
   "outputs": [],
   "source": [
    "Q3. Can we actually declare a string as a variable name?\n",
    "\n",
    "Ans: No , we cannot declare a string as a variable name because there are restricted words that are strings,\n",
    "     some strings can begin with digits and some can contain special characters."
   ]
  },
  {
   "cell_type": "code",
   "execution_count": 5,
   "id": "d8e477c8",
   "metadata": {},
   "outputs": [
    {
     "name": "stdout",
     "output_type": "stream",
     "text": [
      "<class 'str'>\n",
      "<class 'int'>\n",
      "<class 'float'>\n"
     ]
    }
   ],
   "source": [
    "a = \"Hello Python\"\n",
    "print(type(a)) #str\n",
    "\n",
    "a = 10\n",
    "print(type(a)) #int\n",
    "\n",
    "a=20.02\n",
    "print(type(a))\n"
   ]
  },
  {
   "cell_type": "code",
   "execution_count": null,
   "id": "67de4eea",
   "metadata": {},
   "outputs": [],
   "source": [
    "Q4. Is it possible for us to declare “_” as a variable? If so, then write an example of it.\n",
    "\n",
    "Ans: Yes , we can declare underscore as a variable.\n",
    "\n",
    "Eg :"
   ]
  },
  {
   "cell_type": "code",
   "execution_count": 1,
   "id": "657d6a02",
   "metadata": {},
   "outputs": [
    {
     "name": "stdout",
     "output_type": "stream",
     "text": [
      "hello world\n"
     ]
    }
   ],
   "source": [
    "_ = \"hello world\"\n",
    "print(_)"
   ]
  },
  {
   "cell_type": "code",
   "execution_count": null,
   "id": "f87d8203",
   "metadata": {},
   "outputs": [],
   "source": []
  }
 ],
 "metadata": {
  "kernelspec": {
   "display_name": "Python 3 (ipykernel)",
   "language": "python",
   "name": "python3"
  },
  "language_info": {
   "codemirror_mode": {
    "name": "ipython",
    "version": 3
   },
   "file_extension": ".py",
   "mimetype": "text/x-python",
   "name": "python",
   "nbconvert_exporter": "python",
   "pygments_lexer": "ipython3",
   "version": "3.11.4"
  }
 },
 "nbformat": 4,
 "nbformat_minor": 5
}
